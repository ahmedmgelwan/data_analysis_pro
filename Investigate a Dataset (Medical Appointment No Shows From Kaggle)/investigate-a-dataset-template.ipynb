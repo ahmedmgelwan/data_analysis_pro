{
 "cells": [
  {
   "cell_type": "markdown",
   "id": "d82243d6",
   "metadata": {},
   "source": [
    "\n",
    "\n",
    "# Project: Investigate a Dataset (Medical Appointment No Shows From Kaggle)\n",
    "\n",
    "## Table of Contents\n",
    "<ul>\n",
    "<li><a href=\"#intro\">Introduction</a></li>\n",
    "<li><a href=\"#wrangling\">Data Wrangling</a></li>\n",
    "<li><a href=\"#eda\">Exploratory Data Analysis</a></li>\n",
    "<li><a href=\"#conclusions\">Conclusions</a></li>\n",
    "</ul>"
   ]
  },
  {
   "cell_type": "markdown",
   "id": "cf299321",
   "metadata": {},
   "source": [
    "<a id='intro'></a>\n",
    "## Introduction\n",
    "A patient makes a doctor appointment, receives all the instructions and no-show.In this notebook we will answer to Why do 30% of patients miss their scheduled appointments?"
   ]
  },
  {
   "cell_type": "code",
   "execution_count": 1,
   "id": "5c3659e5",
   "metadata": {},
   "outputs": [],
   "source": [
    "import numpy as np\n",
    "import pandas as pd\n",
    "import matplotlib.pyplot as plt\n",
    "import seaborn as sns\n",
    "import time\n",
    "%matplotlib inline"
   ]
  },
  {
   "cell_type": "markdown",
   "id": "9066ecbd",
   "metadata": {},
   "source": [
    "<a id='wrangling'></a>\n",
    "## Data Wrangling\n",
    "\n",
    "> **Tip**: In this section of the report, you will load in the data, check for cleanliness, and then trim and clean your dataset for analysis. Make sure that you document your steps carefully and justify your cleaning decisions.\n",
    "\n",
    "### General Properties"
   ]
  },
  {
   "cell_type": "code",
   "execution_count": 2,
   "id": "58982b29",
   "metadata": {},
   "outputs": [
    {
     "data": {
      "text/html": [
       "<div>\n",
       "<style scoped>\n",
       "    .dataframe tbody tr th:only-of-type {\n",
       "        vertical-align: middle;\n",
       "    }\n",
       "\n",
       "    .dataframe tbody tr th {\n",
       "        vertical-align: top;\n",
       "    }\n",
       "\n",
       "    .dataframe thead th {\n",
       "        text-align: right;\n",
       "    }\n",
       "</style>\n",
       "<table border=\"1\" class=\"dataframe\">\n",
       "  <thead>\n",
       "    <tr style=\"text-align: right;\">\n",
       "      <th></th>\n",
       "      <th>PatientId</th>\n",
       "      <th>AppointmentID</th>\n",
       "      <th>Gender</th>\n",
       "      <th>ScheduledDay</th>\n",
       "      <th>AppointmentDay</th>\n",
       "      <th>Age</th>\n",
       "      <th>Neighbourhood</th>\n",
       "      <th>Scholarship</th>\n",
       "      <th>Hipertension</th>\n",
       "      <th>Diabetes</th>\n",
       "      <th>Alcoholism</th>\n",
       "      <th>Handcap</th>\n",
       "      <th>SMS_received</th>\n",
       "      <th>No-show</th>\n",
       "    </tr>\n",
       "  </thead>\n",
       "  <tbody>\n",
       "    <tr>\n",
       "      <th>0</th>\n",
       "      <td>2.987250e+13</td>\n",
       "      <td>5642903</td>\n",
       "      <td>F</td>\n",
       "      <td>2016-04-29T18:38:08Z</td>\n",
       "      <td>2016-04-29T00:00:00Z</td>\n",
       "      <td>62</td>\n",
       "      <td>JARDIM DA PENHA</td>\n",
       "      <td>0</td>\n",
       "      <td>1</td>\n",
       "      <td>0</td>\n",
       "      <td>0</td>\n",
       "      <td>0</td>\n",
       "      <td>0</td>\n",
       "      <td>No</td>\n",
       "    </tr>\n",
       "    <tr>\n",
       "      <th>1</th>\n",
       "      <td>5.589978e+14</td>\n",
       "      <td>5642503</td>\n",
       "      <td>M</td>\n",
       "      <td>2016-04-29T16:08:27Z</td>\n",
       "      <td>2016-04-29T00:00:00Z</td>\n",
       "      <td>56</td>\n",
       "      <td>JARDIM DA PENHA</td>\n",
       "      <td>0</td>\n",
       "      <td>0</td>\n",
       "      <td>0</td>\n",
       "      <td>0</td>\n",
       "      <td>0</td>\n",
       "      <td>0</td>\n",
       "      <td>No</td>\n",
       "    </tr>\n",
       "    <tr>\n",
       "      <th>2</th>\n",
       "      <td>4.262962e+12</td>\n",
       "      <td>5642549</td>\n",
       "      <td>F</td>\n",
       "      <td>2016-04-29T16:19:04Z</td>\n",
       "      <td>2016-04-29T00:00:00Z</td>\n",
       "      <td>62</td>\n",
       "      <td>MATA DA PRAIA</td>\n",
       "      <td>0</td>\n",
       "      <td>0</td>\n",
       "      <td>0</td>\n",
       "      <td>0</td>\n",
       "      <td>0</td>\n",
       "      <td>0</td>\n",
       "      <td>No</td>\n",
       "    </tr>\n",
       "    <tr>\n",
       "      <th>3</th>\n",
       "      <td>8.679512e+11</td>\n",
       "      <td>5642828</td>\n",
       "      <td>F</td>\n",
       "      <td>2016-04-29T17:29:31Z</td>\n",
       "      <td>2016-04-29T00:00:00Z</td>\n",
       "      <td>8</td>\n",
       "      <td>PONTAL DE CAMBURI</td>\n",
       "      <td>0</td>\n",
       "      <td>0</td>\n",
       "      <td>0</td>\n",
       "      <td>0</td>\n",
       "      <td>0</td>\n",
       "      <td>0</td>\n",
       "      <td>No</td>\n",
       "    </tr>\n",
       "    <tr>\n",
       "      <th>4</th>\n",
       "      <td>8.841186e+12</td>\n",
       "      <td>5642494</td>\n",
       "      <td>F</td>\n",
       "      <td>2016-04-29T16:07:23Z</td>\n",
       "      <td>2016-04-29T00:00:00Z</td>\n",
       "      <td>56</td>\n",
       "      <td>JARDIM DA PENHA</td>\n",
       "      <td>0</td>\n",
       "      <td>1</td>\n",
       "      <td>1</td>\n",
       "      <td>0</td>\n",
       "      <td>0</td>\n",
       "      <td>0</td>\n",
       "      <td>No</td>\n",
       "    </tr>\n",
       "  </tbody>\n",
       "</table>\n",
       "</div>"
      ],
      "text/plain": [
       "      PatientId  AppointmentID Gender          ScheduledDay  \\\n",
       "0  2.987250e+13        5642903      F  2016-04-29T18:38:08Z   \n",
       "1  5.589978e+14        5642503      M  2016-04-29T16:08:27Z   \n",
       "2  4.262962e+12        5642549      F  2016-04-29T16:19:04Z   \n",
       "3  8.679512e+11        5642828      F  2016-04-29T17:29:31Z   \n",
       "4  8.841186e+12        5642494      F  2016-04-29T16:07:23Z   \n",
       "\n",
       "         AppointmentDay  Age      Neighbourhood  Scholarship  Hipertension  \\\n",
       "0  2016-04-29T00:00:00Z   62    JARDIM DA PENHA            0             1   \n",
       "1  2016-04-29T00:00:00Z   56    JARDIM DA PENHA            0             0   \n",
       "2  2016-04-29T00:00:00Z   62      MATA DA PRAIA            0             0   \n",
       "3  2016-04-29T00:00:00Z    8  PONTAL DE CAMBURI            0             0   \n",
       "4  2016-04-29T00:00:00Z   56    JARDIM DA PENHA            0             1   \n",
       "\n",
       "   Diabetes  Alcoholism  Handcap  SMS_received No-show  \n",
       "0         0           0        0             0      No  \n",
       "1         0           0        0             0      No  \n",
       "2         0           0        0             0      No  \n",
       "3         0           0        0             0      No  \n",
       "4         1           0        0             0      No  "
      ]
     },
     "execution_count": 2,
     "metadata": {},
     "output_type": "execute_result"
    }
   ],
   "source": [
    "# Load your data and print out a few lines. Perform operations to inspect data\n",
    "df = pd.read_csv('noshowappointments-kagglev2-may-2016.csv')\n",
    "df.head()"
   ]
  },
  {
   "cell_type": "code",
   "execution_count": 3,
   "id": "dc8681cb",
   "metadata": {},
   "outputs": [
    {
     "data": {
      "text/plain": [
       "(110527, 14)"
      ]
     },
     "execution_count": 3,
     "metadata": {},
     "output_type": "execute_result"
    }
   ],
   "source": [
    "df.shape"
   ]
  },
  {
   "cell_type": "markdown",
   "id": "6d69294d",
   "metadata": {},
   "source": [
    "This data cotain  110527 rows and 14 variables.\n",
    "Variables are:\n",
    "- PatientId: number that identify patient\n",
    "- AppointmentID: identify the appointment\n",
    "- Gender: gender of each patient\n",
    "- ScheduledDay\n",
    "- AppointmentDay\n",
    "- Age\n",
    "- Scholarship\n",
    "- Hipertension\n",
    "- Diabetes\n",
    "- Alcoholism\n",
    "- Handcap\n",
    "- SMS_received\n",
    "- No-show"
   ]
  },
  {
   "cell_type": "code",
   "execution_count": 4,
   "id": "5bc19ab6",
   "metadata": {},
   "outputs": [
    {
     "name": "stdout",
     "output_type": "stream",
     "text": [
      "<class 'pandas.core.frame.DataFrame'>\n",
      "RangeIndex: 110527 entries, 0 to 110526\n",
      "Data columns (total 14 columns):\n",
      " #   Column          Non-Null Count   Dtype  \n",
      "---  ------          --------------   -----  \n",
      " 0   PatientId       110527 non-null  float64\n",
      " 1   AppointmentID   110527 non-null  int64  \n",
      " 2   Gender          110527 non-null  object \n",
      " 3   ScheduledDay    110527 non-null  object \n",
      " 4   AppointmentDay  110527 non-null  object \n",
      " 5   Age             110527 non-null  int64  \n",
      " 6   Neighbourhood   110527 non-null  object \n",
      " 7   Scholarship     110527 non-null  int64  \n",
      " 8   Hipertension    110527 non-null  int64  \n",
      " 9   Diabetes        110527 non-null  int64  \n",
      " 10  Alcoholism      110527 non-null  int64  \n",
      " 11  Handcap         110527 non-null  int64  \n",
      " 12  SMS_received    110527 non-null  int64  \n",
      " 13  No-show         110527 non-null  object \n",
      "dtypes: float64(1), int64(8), object(5)\n",
      "memory usage: 11.8+ MB\n"
     ]
    }
   ],
   "source": [
    "df.info()"
   ]
  },
  {
   "cell_type": "code",
   "execution_count": 5,
   "id": "c608ad21",
   "metadata": {},
   "outputs": [
    {
     "data": {
      "text/plain": [
       "PatientId         110527\n",
       "AppointmentID     110527\n",
       "Gender            110527\n",
       "ScheduledDay      110527\n",
       "AppointmentDay    110527\n",
       "Age               110527\n",
       "Neighbourhood     110527\n",
       "Scholarship       110527\n",
       "Hipertension      110527\n",
       "Diabetes          110527\n",
       "Alcoholism        110527\n",
       "Handcap           110527\n",
       "SMS_received      110527\n",
       "No-show           110527\n",
       "dtype: int64"
      ]
     },
     "execution_count": 5,
     "metadata": {},
     "output_type": "execute_result"
    }
   ],
   "source": [
    "# types and look for instances of missing or possibly errant data.\n",
    "df.isnull().notnull().sum()"
   ]
  },
  {
   "cell_type": "markdown",
   "id": "4c626675",
   "metadata": {},
   "source": [
    "*There are not any missing value in given dataset*"
   ]
  },
  {
   "cell_type": "markdown",
   "id": "246aab11",
   "metadata": {},
   "source": [
    "### Data Cleaning "
   ]
  },
  {
   "cell_type": "code",
   "execution_count": 6,
   "id": "d388839b",
   "metadata": {},
   "outputs": [
    {
     "data": {
      "text/plain": [
       "0"
      ]
     },
     "execution_count": 6,
     "metadata": {},
     "output_type": "execute_result"
    }
   ],
   "source": [
    "# Check full duplicated rows\n",
    "df.duplicated().sum()"
   ]
  },
  {
   "cell_type": "code",
   "execution_count": 7,
   "id": "17cdd01b",
   "metadata": {},
   "outputs": [],
   "source": [
    "# Rename all variables to be in conventional naming\n",
    "df.rename(columns=lambda x:x.lower().replace('-','_'), inplace = True)"
   ]
  },
  {
   "cell_type": "code",
   "execution_count": 8,
   "id": "7e7e9bb9",
   "metadata": {},
   "outputs": [
    {
     "data": {
      "text/plain": [
       "Index(['patientid', 'appointmentid', 'gender', 'scheduledday',\n",
       "       'appointmentday', 'age', 'neighbourhood', 'scholarship', 'hipertension',\n",
       "       'diabetes', 'alcoholism', 'handcap', 'sms_received', 'no_show'],\n",
       "      dtype='object')"
      ]
     },
     "execution_count": 8,
     "metadata": {},
     "output_type": "execute_result"
    }
   ],
   "source": [
    "df.columns"
   ]
  },
  {
   "cell_type": "code",
   "execution_count": 9,
   "id": "ec1bdc35",
   "metadata": {},
   "outputs": [
    {
     "data": {
      "text/plain": [
       "(62299,)"
      ]
     },
     "execution_count": 9,
     "metadata": {},
     "output_type": "execute_result"
    }
   ],
   "source": [
    "# Check if a patient has more than an appointment\n",
    "df.patientid.unique().shape"
   ]
  },
  {
   "cell_type": "markdown",
   "id": "6dcda0be",
   "metadata": {},
   "source": [
    "*There are only 62299 patients booked for appointments. which means that there are more than patient has more than appointment*"
   ]
  },
  {
   "cell_type": "code",
   "execution_count": 10,
   "id": "708b48f9",
   "metadata": {},
   "outputs": [
    {
     "data": {
      "text/plain": [
       "38710"
      ]
     },
     "execution_count": 10,
     "metadata": {},
     "output_type": "execute_result"
    }
   ],
   "source": [
    "# Verify that patients are repeted with the same No show state\n",
    "df[['patientid','no_show']].duplicated().sum()"
   ]
  },
  {
   "cell_type": "markdown",
   "id": "5d366f97",
   "metadata": {},
   "source": [
    "**We will consider this rows as duplicated rows and will drop them becouse that persent a usual from this patient or he will book again**"
   ]
  },
  {
   "cell_type": "code",
   "execution_count": 11,
   "id": "b08f663e",
   "metadata": {},
   "outputs": [],
   "source": [
    "# Drop duplicated patient with the same No-show state \n",
    "df.drop_duplicates(['patientid','no_show'], inplace=True)"
   ]
  },
  {
   "cell_type": "code",
   "execution_count": 12,
   "id": "0d3be2ff",
   "metadata": {},
   "outputs": [
    {
     "data": {
      "text/plain": [
       "(71817, 14)"
      ]
     },
     "execution_count": 12,
     "metadata": {},
     "output_type": "execute_result"
    }
   ],
   "source": [
    "df.shape"
   ]
  },
  {
   "cell_type": "code",
   "execution_count": 13,
   "id": "f6fcb5f3",
   "metadata": {},
   "outputs": [],
   "source": [
    "# drop unuseful variable (that has no affect to our data becouse it 's personal, not genaric and it 's related to the date of the appointment)\n",
    "df.drop(['patientid','appointmentid','scheduledday','appointmentday'],axis = 1, inplace = True)"
   ]
  },
  {
   "cell_type": "code",
   "execution_count": 14,
   "id": "9238b33f",
   "metadata": {},
   "outputs": [
    {
     "data": {
      "text/plain": [
       "10"
      ]
     },
     "execution_count": 14,
     "metadata": {},
     "output_type": "execute_result"
    }
   ],
   "source": [
    "df.shape[1]"
   ]
  },
  {
   "cell_type": "code",
   "execution_count": 15,
   "id": "efac2b9e",
   "metadata": {},
   "outputs": [
    {
     "data": {
      "text/plain": [
       "array(['F', 'M'], dtype=object)"
      ]
     },
     "execution_count": 15,
     "metadata": {},
     "output_type": "execute_result"
    }
   ],
   "source": [
    "df['gender'].unique()"
   ]
  },
  {
   "cell_type": "code",
   "execution_count": 16,
   "id": "72092741",
   "metadata": {},
   "outputs": [
    {
     "data": {
      "text/html": [
       "<div>\n",
       "<style scoped>\n",
       "    .dataframe tbody tr th:only-of-type {\n",
       "        vertical-align: middle;\n",
       "    }\n",
       "\n",
       "    .dataframe tbody tr th {\n",
       "        vertical-align: top;\n",
       "    }\n",
       "\n",
       "    .dataframe thead th {\n",
       "        text-align: right;\n",
       "    }\n",
       "</style>\n",
       "<table border=\"1\" class=\"dataframe\">\n",
       "  <thead>\n",
       "    <tr style=\"text-align: right;\">\n",
       "      <th></th>\n",
       "      <th>gender</th>\n",
       "      <th>age</th>\n",
       "      <th>neighbourhood</th>\n",
       "      <th>scholarship</th>\n",
       "      <th>hipertension</th>\n",
       "      <th>diabetes</th>\n",
       "      <th>alcoholism</th>\n",
       "      <th>handcap</th>\n",
       "      <th>sms_received</th>\n",
       "      <th>no_show</th>\n",
       "    </tr>\n",
       "  </thead>\n",
       "  <tbody>\n",
       "    <tr>\n",
       "      <th>0</th>\n",
       "      <td>F</td>\n",
       "      <td>62</td>\n",
       "      <td>JARDIM DA PENHA</td>\n",
       "      <td>0</td>\n",
       "      <td>1</td>\n",
       "      <td>0</td>\n",
       "      <td>0</td>\n",
       "      <td>0</td>\n",
       "      <td>0</td>\n",
       "      <td>No</td>\n",
       "    </tr>\n",
       "    <tr>\n",
       "      <th>1</th>\n",
       "      <td>M</td>\n",
       "      <td>56</td>\n",
       "      <td>JARDIM DA PENHA</td>\n",
       "      <td>0</td>\n",
       "      <td>0</td>\n",
       "      <td>0</td>\n",
       "      <td>0</td>\n",
       "      <td>0</td>\n",
       "      <td>0</td>\n",
       "      <td>No</td>\n",
       "    </tr>\n",
       "    <tr>\n",
       "      <th>2</th>\n",
       "      <td>F</td>\n",
       "      <td>62</td>\n",
       "      <td>MATA DA PRAIA</td>\n",
       "      <td>0</td>\n",
       "      <td>0</td>\n",
       "      <td>0</td>\n",
       "      <td>0</td>\n",
       "      <td>0</td>\n",
       "      <td>0</td>\n",
       "      <td>No</td>\n",
       "    </tr>\n",
       "    <tr>\n",
       "      <th>3</th>\n",
       "      <td>F</td>\n",
       "      <td>8</td>\n",
       "      <td>PONTAL DE CAMBURI</td>\n",
       "      <td>0</td>\n",
       "      <td>0</td>\n",
       "      <td>0</td>\n",
       "      <td>0</td>\n",
       "      <td>0</td>\n",
       "      <td>0</td>\n",
       "      <td>No</td>\n",
       "    </tr>\n",
       "    <tr>\n",
       "      <th>4</th>\n",
       "      <td>F</td>\n",
       "      <td>56</td>\n",
       "      <td>JARDIM DA PENHA</td>\n",
       "      <td>0</td>\n",
       "      <td>1</td>\n",
       "      <td>1</td>\n",
       "      <td>0</td>\n",
       "      <td>0</td>\n",
       "      <td>0</td>\n",
       "      <td>No</td>\n",
       "    </tr>\n",
       "  </tbody>\n",
       "</table>\n",
       "</div>"
      ],
      "text/plain": [
       "  gender  age      neighbourhood  scholarship  hipertension  diabetes  \\\n",
       "0      F   62    JARDIM DA PENHA            0             1         0   \n",
       "1      M   56    JARDIM DA PENHA            0             0         0   \n",
       "2      F   62      MATA DA PRAIA            0             0         0   \n",
       "3      F    8  PONTAL DE CAMBURI            0             0         0   \n",
       "4      F   56    JARDIM DA PENHA            0             1         1   \n",
       "\n",
       "   alcoholism  handcap  sms_received no_show  \n",
       "0           0        0             0      No  \n",
       "1           0        0             0      No  \n",
       "2           0        0             0      No  \n",
       "3           0        0             0      No  \n",
       "4           0        0             0      No  "
      ]
     },
     "execution_count": 16,
     "metadata": {},
     "output_type": "execute_result"
    }
   ],
   "source": [
    "df.head()"
   ]
  },
  {
   "cell_type": "code",
   "execution_count": 17,
   "id": "25622652",
   "metadata": {},
   "outputs": [
    {
     "data": {
      "text/html": [
       "<div>\n",
       "<style scoped>\n",
       "    .dataframe tbody tr th:only-of-type {\n",
       "        vertical-align: middle;\n",
       "    }\n",
       "\n",
       "    .dataframe tbody tr th {\n",
       "        vertical-align: top;\n",
       "    }\n",
       "\n",
       "    .dataframe thead th {\n",
       "        text-align: right;\n",
       "    }\n",
       "</style>\n",
       "<table border=\"1\" class=\"dataframe\">\n",
       "  <thead>\n",
       "    <tr style=\"text-align: right;\">\n",
       "      <th></th>\n",
       "      <th>age</th>\n",
       "      <th>scholarship</th>\n",
       "      <th>hipertension</th>\n",
       "      <th>diabetes</th>\n",
       "      <th>alcoholism</th>\n",
       "      <th>handcap</th>\n",
       "      <th>sms_received</th>\n",
       "    </tr>\n",
       "  </thead>\n",
       "  <tbody>\n",
       "    <tr>\n",
       "      <th>count</th>\n",
       "      <td>71817.000000</td>\n",
       "      <td>71817.000000</td>\n",
       "      <td>71817.000000</td>\n",
       "      <td>71817.000000</td>\n",
       "      <td>71817.000000</td>\n",
       "      <td>71817.000000</td>\n",
       "      <td>71817.000000</td>\n",
       "    </tr>\n",
       "    <tr>\n",
       "      <th>mean</th>\n",
       "      <td>36.526978</td>\n",
       "      <td>0.095534</td>\n",
       "      <td>0.195065</td>\n",
       "      <td>0.070958</td>\n",
       "      <td>0.025036</td>\n",
       "      <td>0.020135</td>\n",
       "      <td>0.335561</td>\n",
       "    </tr>\n",
       "    <tr>\n",
       "      <th>std</th>\n",
       "      <td>23.378518</td>\n",
       "      <td>0.293954</td>\n",
       "      <td>0.396254</td>\n",
       "      <td>0.256757</td>\n",
       "      <td>0.156235</td>\n",
       "      <td>0.155337</td>\n",
       "      <td>0.472190</td>\n",
       "    </tr>\n",
       "    <tr>\n",
       "      <th>min</th>\n",
       "      <td>-1.000000</td>\n",
       "      <td>0.000000</td>\n",
       "      <td>0.000000</td>\n",
       "      <td>0.000000</td>\n",
       "      <td>0.000000</td>\n",
       "      <td>0.000000</td>\n",
       "      <td>0.000000</td>\n",
       "    </tr>\n",
       "    <tr>\n",
       "      <th>25%</th>\n",
       "      <td>17.000000</td>\n",
       "      <td>0.000000</td>\n",
       "      <td>0.000000</td>\n",
       "      <td>0.000000</td>\n",
       "      <td>0.000000</td>\n",
       "      <td>0.000000</td>\n",
       "      <td>0.000000</td>\n",
       "    </tr>\n",
       "    <tr>\n",
       "      <th>50%</th>\n",
       "      <td>36.000000</td>\n",
       "      <td>0.000000</td>\n",
       "      <td>0.000000</td>\n",
       "      <td>0.000000</td>\n",
       "      <td>0.000000</td>\n",
       "      <td>0.000000</td>\n",
       "      <td>0.000000</td>\n",
       "    </tr>\n",
       "    <tr>\n",
       "      <th>75%</th>\n",
       "      <td>55.000000</td>\n",
       "      <td>0.000000</td>\n",
       "      <td>0.000000</td>\n",
       "      <td>0.000000</td>\n",
       "      <td>0.000000</td>\n",
       "      <td>0.000000</td>\n",
       "      <td>1.000000</td>\n",
       "    </tr>\n",
       "    <tr>\n",
       "      <th>max</th>\n",
       "      <td>115.000000</td>\n",
       "      <td>1.000000</td>\n",
       "      <td>1.000000</td>\n",
       "      <td>1.000000</td>\n",
       "      <td>1.000000</td>\n",
       "      <td>4.000000</td>\n",
       "      <td>1.000000</td>\n",
       "    </tr>\n",
       "  </tbody>\n",
       "</table>\n",
       "</div>"
      ],
      "text/plain": [
       "                age   scholarship  hipertension      diabetes    alcoholism  \\\n",
       "count  71817.000000  71817.000000  71817.000000  71817.000000  71817.000000   \n",
       "mean      36.526978      0.095534      0.195065      0.070958      0.025036   \n",
       "std       23.378518      0.293954      0.396254      0.256757      0.156235   \n",
       "min       -1.000000      0.000000      0.000000      0.000000      0.000000   \n",
       "25%       17.000000      0.000000      0.000000      0.000000      0.000000   \n",
       "50%       36.000000      0.000000      0.000000      0.000000      0.000000   \n",
       "75%       55.000000      0.000000      0.000000      0.000000      0.000000   \n",
       "max      115.000000      1.000000      1.000000      1.000000      1.000000   \n",
       "\n",
       "            handcap  sms_received  \n",
       "count  71817.000000  71817.000000  \n",
       "mean       0.020135      0.335561  \n",
       "std        0.155337      0.472190  \n",
       "min        0.000000      0.000000  \n",
       "25%        0.000000      0.000000  \n",
       "50%        0.000000      0.000000  \n",
       "75%        0.000000      1.000000  \n",
       "max        4.000000      1.000000  "
      ]
     },
     "execution_count": 17,
     "metadata": {},
     "output_type": "execute_result"
    }
   ],
   "source": [
    "# Get sumary statistics to show that if any value is unconsistint\n",
    "df.describe()"
   ]
  },
  {
   "cell_type": "code",
   "execution_count": 18,
   "id": "6dc8cf94",
   "metadata": {},
   "outputs": [
    {
     "data": {
      "text/plain": [
       "0.1     4.0\n",
       "0.9    68.0\n",
       "Name: age, dtype: float64"
      ]
     },
     "execution_count": 18,
     "metadata": {},
     "output_type": "execute_result"
    }
   ],
   "source": [
    "df['age'].quantile([0.1,0.9])"
   ]
  },
  {
   "cell_type": "code",
   "execution_count": 21,
   "id": "558fdbb5",
   "metadata": {},
   "outputs": [
    {
     "data": {
      "text/html": [
       "<div>\n",
       "<style scoped>\n",
       "    .dataframe tbody tr th:only-of-type {\n",
       "        vertical-align: middle;\n",
       "    }\n",
       "\n",
       "    .dataframe tbody tr th {\n",
       "        vertical-align: top;\n",
       "    }\n",
       "\n",
       "    .dataframe thead th {\n",
       "        text-align: right;\n",
       "    }\n",
       "</style>\n",
       "<table border=\"1\" class=\"dataframe\">\n",
       "  <thead>\n",
       "    <tr style=\"text-align: right;\">\n",
       "      <th></th>\n",
       "      <th>gender</th>\n",
       "      <th>age</th>\n",
       "      <th>neighbourhood</th>\n",
       "      <th>scholarship</th>\n",
       "      <th>hipertension</th>\n",
       "      <th>diabetes</th>\n",
       "      <th>alcoholism</th>\n",
       "      <th>handcap</th>\n",
       "      <th>sms_received</th>\n",
       "      <th>no_show</th>\n",
       "    </tr>\n",
       "  </thead>\n",
       "  <tbody>\n",
       "    <tr>\n",
       "      <th>58014</th>\n",
       "      <td>F</td>\n",
       "      <td>102</td>\n",
       "      <td>CONQUISTA</td>\n",
       "      <td>0</td>\n",
       "      <td>0</td>\n",
       "      <td>0</td>\n",
       "      <td>0</td>\n",
       "      <td>0</td>\n",
       "      <td>0</td>\n",
       "      <td>No</td>\n",
       "    </tr>\n",
       "    <tr>\n",
       "      <th>63912</th>\n",
       "      <td>F</td>\n",
       "      <td>115</td>\n",
       "      <td>ANDORINHAS</td>\n",
       "      <td>0</td>\n",
       "      <td>0</td>\n",
       "      <td>0</td>\n",
       "      <td>0</td>\n",
       "      <td>1</td>\n",
       "      <td>0</td>\n",
       "      <td>Yes</td>\n",
       "    </tr>\n",
       "    <tr>\n",
       "      <th>76284</th>\n",
       "      <td>F</td>\n",
       "      <td>115</td>\n",
       "      <td>ANDORINHAS</td>\n",
       "      <td>0</td>\n",
       "      <td>0</td>\n",
       "      <td>0</td>\n",
       "      <td>0</td>\n",
       "      <td>1</td>\n",
       "      <td>0</td>\n",
       "      <td>No</td>\n",
       "    </tr>\n",
       "    <tr>\n",
       "      <th>79270</th>\n",
       "      <td>M</td>\n",
       "      <td>100</td>\n",
       "      <td>TABUAZEIRO</td>\n",
       "      <td>0</td>\n",
       "      <td>0</td>\n",
       "      <td>0</td>\n",
       "      <td>0</td>\n",
       "      <td>1</td>\n",
       "      <td>0</td>\n",
       "      <td>No</td>\n",
       "    </tr>\n",
       "    <tr>\n",
       "      <th>90372</th>\n",
       "      <td>F</td>\n",
       "      <td>102</td>\n",
       "      <td>MARIA ORTIZ</td>\n",
       "      <td>0</td>\n",
       "      <td>0</td>\n",
       "      <td>0</td>\n",
       "      <td>0</td>\n",
       "      <td>0</td>\n",
       "      <td>0</td>\n",
       "      <td>No</td>\n",
       "    </tr>\n",
       "    <tr>\n",
       "      <th>92084</th>\n",
       "      <td>F</td>\n",
       "      <td>100</td>\n",
       "      <td>ANTÔNIO HONÓRIO</td>\n",
       "      <td>0</td>\n",
       "      <td>0</td>\n",
       "      <td>0</td>\n",
       "      <td>0</td>\n",
       "      <td>0</td>\n",
       "      <td>1</td>\n",
       "      <td>No</td>\n",
       "    </tr>\n",
       "    <tr>\n",
       "      <th>97666</th>\n",
       "      <td>F</td>\n",
       "      <td>115</td>\n",
       "      <td>SÃO JOSÉ</td>\n",
       "      <td>0</td>\n",
       "      <td>1</td>\n",
       "      <td>0</td>\n",
       "      <td>0</td>\n",
       "      <td>0</td>\n",
       "      <td>1</td>\n",
       "      <td>No</td>\n",
       "    </tr>\n",
       "    <tr>\n",
       "      <th>108506</th>\n",
       "      <td>F</td>\n",
       "      <td>100</td>\n",
       "      <td>MARUÍPE</td>\n",
       "      <td>0</td>\n",
       "      <td>0</td>\n",
       "      <td>0</td>\n",
       "      <td>0</td>\n",
       "      <td>0</td>\n",
       "      <td>0</td>\n",
       "      <td>No</td>\n",
       "    </tr>\n",
       "  </tbody>\n",
       "</table>\n",
       "</div>"
      ],
      "text/plain": [
       "       gender  age    neighbourhood  scholarship  hipertension  diabetes  \\\n",
       "58014       F  102        CONQUISTA            0             0         0   \n",
       "63912       F  115       ANDORINHAS            0             0         0   \n",
       "76284       F  115       ANDORINHAS            0             0         0   \n",
       "79270       M  100       TABUAZEIRO            0             0         0   \n",
       "90372       F  102      MARIA ORTIZ            0             0         0   \n",
       "92084       F  100  ANTÔNIO HONÓRIO            0             0         0   \n",
       "97666       F  115         SÃO JOSÉ            0             1         0   \n",
       "108506      F  100          MARUÍPE            0             0         0   \n",
       "\n",
       "        alcoholism  handcap  sms_received no_show  \n",
       "58014            0        0             0      No  \n",
       "63912            0        1             0     Yes  \n",
       "76284            0        1             0      No  \n",
       "79270            0        1             0      No  \n",
       "90372            0        0             0      No  \n",
       "92084            0        0             1      No  \n",
       "97666            0        0             1      No  \n",
       "108506           0        0             0      No  "
      ]
     },
     "execution_count": 21,
     "metadata": {},
     "output_type": "execute_result"
    }
   ],
   "source": [
    "df[df['age'] >= 100]"
   ]
  },
  {
   "cell_type": "code",
   "execution_count": null,
   "id": "5cc0850d",
   "metadata": {},
   "outputs": [],
   "source": []
  },
  {
   "cell_type": "code",
   "execution_count": null,
   "id": "cab4eb72",
   "metadata": {},
   "outputs": [],
   "source": [
    "# Inspect ages with negative value\n",
    "df.query('age <0 ')"
   ]
  },
  {
   "cell_type": "code",
   "execution_count": null,
   "id": "6e8fde89",
   "metadata": {},
   "outputs": [],
   "source": [
    "# Drop this row\n",
    "df.drop(index = 99832, inplace = True)"
   ]
  },
  {
   "cell_type": "markdown",
   "id": "fc342c0b",
   "metadata": {},
   "source": [
    "<a id='eda'></a>`\n",
    "## Exploratory Data Analysis\n",
    "\n",
    "the main question is: **What are variables the affect to attendance at the appointmen?** "
   ]
  },
  {
   "cell_type": "code",
   "execution_count": null,
   "id": "83e259d6",
   "metadata": {},
   "outputs": [],
   "source": [
    "# Get General Insight From variables distributions of hole dataset\n",
    "df.hist(figsize = (10,10));"
   ]
  },
  {
   "cell_type": "code",
   "execution_count": null,
   "id": "ee2ed23c",
   "metadata": {},
   "outputs": [],
   "source": [
    "df['no_show'].value_counts().plot(kind = 'pie',title = 'Gender with show',autopct='%1.1f%%');"
   ]
  },
  {
   "cell_type": "code",
   "execution_count": null,
   "id": "2667f9d4",
   "metadata": {},
   "outputs": [],
   "source": [
    "# Grouping our dataset to two groups one for show and other for n_show\n",
    "show = df.no_show == \"No\"\n",
    "no_show = df.no_show == \"Yes\""
   ]
  },
  {
   "cell_type": "code",
   "execution_count": null,
   "id": "71e445bb",
   "metadata": {},
   "outputs": [],
   "source": [
    "df[show].mean()"
   ]
  },
  {
   "cell_type": "code",
   "execution_count": null,
   "id": "ec56132c",
   "metadata": {},
   "outputs": [],
   "source": [
    "df[no_show].mean()"
   ]
  },
  {
   "cell_type": "markdown",
   "id": "fcacb17e",
   "metadata": {},
   "source": [
    "> *Untill this point there is no clear affectable variable so we will complete our analysis for each variable*"
   ]
  },
  {
   "cell_type": "markdown",
   "id": "d62e2482",
   "metadata": {},
   "source": [
    "## Does age affect to be show"
   ]
  },
  {
   "cell_type": "code",
   "execution_count": null,
   "id": "c14ee7e7",
   "metadata": {},
   "outputs": [],
   "source": [
    "# Does patient 's age affect to atendance?\n",
    "plt.figure(figsize=(15,5))\n",
    "df['age'][show].hist(bins = 10, label = 'show', color = 'green')\n",
    "df['age'][no_show].hist(bins = 10, label = 'no show', color = 'red')\n",
    "plt.legend();\n",
    "plt.xlabel('Age')\n",
    "plt.ylabel('No. of Patients')\n",
    "plt.title('Age vs No. of Patents')\n",
    "plt.show()"
   ]
  },
  {
   "cell_type": "code",
   "execution_count": null,
   "id": "21d14783",
   "metadata": {},
   "outputs": [],
   "source": [
    "'Min age is: '+ str(df['age'].min()) +' Max age is: ' + str(df['age'].max())"
   ]
  },
  {
   "cell_type": "markdown",
   "id": "95130111",
   "metadata": {},
   "source": [
    "It's clear that patients with age 0:10 years old is the most who attend to appoientment and age 80:115 years old are less attend"
   ]
  },
  {
   "cell_type": "markdown",
   "id": "931a0959",
   "metadata": {},
   "source": [
    "## Does chroinc diseases affect to attendance?"
   ]
  },
  {
   "cell_type": "code",
   "execution_count": null,
   "id": "bf16a916",
   "metadata": {},
   "outputs": [],
   "source": [
    "def plot_col(col):\n",
    "    \"\"\"\n",
    "    This function plots a bar chart of given col with respect to number of pattients.\n",
    "    Argument:\n",
    "        col: column name.\n",
    "    Return: \n",
    "        A figure that cotians the data of show with green and no show with red.\n",
    "    \"\"\"\n",
    "    df[show][col].value_counts().plot(kind = 'bar', label= 'Show', color = 'g')\n",
    "    df[no_show][col].value_counts().plot(kind = 'bar', label = 'No Show', color = 'r')\n",
    "    plt.xlabel(col.title())\n",
    "    plt.ylabel('No. of Patients')\n",
    "    plt.title(f'{col.title()} VS No. of Patients.')\n",
    "    plt.legend()\n",
    "    plt.show()"
   ]
  },
  {
   "cell_type": "code",
   "execution_count": null,
   "id": "91190870",
   "metadata": {},
   "outputs": [],
   "source": [
    "# First Hibertension State\n",
    "plot_col('hipertension')"
   ]
  },
  {
   "cell_type": "code",
   "execution_count": null,
   "id": "530eb0ef",
   "metadata": {},
   "outputs": [],
   "source": [
    "df[show].hipertension.value_counts(),df[no_show].hipertension.value_counts()"
   ]
  },
  {
   "cell_type": "code",
   "execution_count": null,
   "id": "1c5ace66",
   "metadata": {},
   "outputs": [],
   "source": [
    "# Second Diabetes\n",
    "plot_col('diabetes')"
   ]
  },
  {
   "cell_type": "code",
   "execution_count": null,
   "id": "04942924",
   "metadata": {},
   "outputs": [],
   "source": [
    "# Second Hibertension and Diabetes\n",
    "df[show].groupby(['hipertension', 'diabetes']).count()['no_show'].plot(kind = 'bar', label = 'Show', color = 'g')\n",
    "df[no_show].groupby(['hipertension', 'diabetes']).count()['no_show'].plot(kind = 'bar', label = 'No Show', color = 'r')\n",
    "plt.xlabel('Hibertension and Diabetes Sate')\n",
    "plt.ylabel('No. of Patients')\n",
    "plt.title('Hibertension and Diabetes Sate VS No. of Patients')\n",
    "plt.legend()\n",
    "plt.show()"
   ]
  },
  {
   "cell_type": "markdown",
   "id": "4c9a1ae4",
   "metadata": {},
   "source": [
    "From Pervious We find that conric diseases is not an affectable factor only tiny effect when paitent has one only"
   ]
  },
  {
   "cell_type": "markdown",
   "id": "7f71fe6a",
   "metadata": {},
   "source": [
    "## Does gender affect ?"
   ]
  },
  {
   "cell_type": "code",
   "execution_count": null,
   "id": "eb9d2c54",
   "metadata": {},
   "outputs": [],
   "source": [
    "df[show].gender.value_counts().plot(kind = 'pie',title = 'Gender with show',autopct='%1.1f%%');"
   ]
  },
  {
   "cell_type": "code",
   "execution_count": null,
   "id": "84052d24",
   "metadata": {},
   "outputs": [],
   "source": [
    "df[no_show].gender.value_counts().plot(kind = 'pie',title = 'Gender with no show',autopct='%1.1f%%');"
   ]
  },
  {
   "cell_type": "markdown",
   "id": "01a90ead",
   "metadata": {},
   "source": [
    "Gender has not strong effect."
   ]
  },
  {
   "cell_type": "code",
   "execution_count": null,
   "id": "faf06844",
   "metadata": {},
   "outputs": [],
   "source": [
    "# Does reciving sms affect to show appointment?\n",
    "plot_col('sms_received')"
   ]
  },
  {
   "cell_type": "markdown",
   "id": "1398f232",
   "metadata": {},
   "source": [
    "It's clear that the number of patients who received an SMS and attend is less than the number of patients who did not receive SMS and attend which mean that SMS campaign must be reorganized"
   ]
  },
  {
   "cell_type": "markdown",
   "id": "8d32a3a0",
   "metadata": {},
   "source": [
    "## Is Neighbourhood has an effect to attendace ?"
   ]
  },
  {
   "cell_type": "code",
   "execution_count": null,
   "id": "c44dfb80",
   "metadata": {},
   "outputs": [],
   "source": [
    "plt.figure(figsize = [16,8])\n",
    "plot_col('neighbourhood')"
   ]
  },
  {
   "cell_type": "markdown",
   "id": "76744537",
   "metadata": {},
   "source": [
    "Neighbourhood has a clear effect such that Jardim Camburi has most appoientments and most attend to show apppientment and PARQUE INDUSTRIAL is the less."
   ]
  },
  {
   "cell_type": "markdown",
   "id": "7aa40712",
   "metadata": {},
   "source": [
    "## Does Scholarship affected to attendance?"
   ]
  },
  {
   "cell_type": "code",
   "execution_count": null,
   "id": "b6017ad7",
   "metadata": {},
   "outputs": [],
   "source": [
    "plot_col('scholarship')"
   ]
  },
  {
   "cell_type": "markdown",
   "id": "95278f35",
   "metadata": {},
   "source": [
    "It's clear that patients who has a Scholarship attend to appoientment more than who did not have."
   ]
  },
  {
   "cell_type": "markdown",
   "id": "b6e63563",
   "metadata": {},
   "source": [
    "## Does alcoholism has an effect ?\t"
   ]
  },
  {
   "cell_type": "code",
   "execution_count": null,
   "id": "e305ab06",
   "metadata": {},
   "outputs": [],
   "source": [
    "df[show]['alcoholism'].value_counts().plot(kind = 'pie',title = 'Gender with no show',autopct='%1.1f%%');"
   ]
  },
  {
   "cell_type": "code",
   "execution_count": null,
   "id": "77b0efdf",
   "metadata": {},
   "outputs": [],
   "source": [
    "df[no_show]['alcoholism'].value_counts().plot(kind = 'pie',title = 'Gender with no show',autopct='%1.1f%%');"
   ]
  },
  {
   "cell_type": "markdown",
   "id": "0e648289",
   "metadata": {},
   "source": [
    "Alcoholism has no effect."
   ]
  },
  {
   "cell_type": "markdown",
   "id": "e030ebe3",
   "metadata": {},
   "source": [
    "## Does handcap has an effect?"
   ]
  },
  {
   "cell_type": "code",
   "execution_count": null,
   "id": "58988627",
   "metadata": {},
   "outputs": [],
   "source": [
    "plot_col('handcap')"
   ]
  },
  {
   "cell_type": "markdown",
   "id": "ac7b6560",
   "metadata": {},
   "source": [
    "There is an tiny relation becouse of most patients whith handcap are attend and patients with no handcap are also attend"
   ]
  },
  {
   "cell_type": "markdown",
   "id": "1cfb7f8a",
   "metadata": {},
   "source": [
    "<a id='conclusions'></a>\n",
    "## Conclusions\n",
    "\n",
    "* Age has a great effect such that patients with 0:10 years old are the most patients attend to appoientment, and patient in between 48 and 58 is the second in order\n",
    "* Patients who lives in JARDIM CAMBURI and MARIA ORTIZ are the most who attend at the appoientment.\n",
    "* It's clear that patients who has a Scholarship attend to appoientment more than who did not hav.\n",
    "* patients who received an SMS and attend is less than the number of patients who did not receive SMS and attend which mean that SMS campaign must be reorganized"
   ]
  },
  {
   "cell_type": "markdown",
   "id": "5c03031f",
   "metadata": {},
   "source": [
    "## Limitations\n",
    "There is no clear corelation between attendace at appoientment and gender, chroinic diseases"
   ]
  }
 ],
 "metadata": {
  "kernelspec": {
   "display_name": "Python 3 (ipykernel)",
   "language": "python",
   "name": "python3"
  },
  "language_info": {
   "codemirror_mode": {
    "name": "ipython",
    "version": 3
   },
   "file_extension": ".py",
   "mimetype": "text/x-python",
   "name": "python",
   "nbconvert_exporter": "python",
   "pygments_lexer": "ipython3",
   "version": "3.8.5"
  },
  "vscode": {
   "interpreter": {
    "hash": "b8d95c598a0d400b8ea806a5a4f4d66e0fe7e8ef9b8472e045a1b581be580002"
   }
  }
 },
 "nbformat": 4,
 "nbformat_minor": 5
}
